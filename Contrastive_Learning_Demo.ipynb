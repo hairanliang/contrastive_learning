{
 "cells": [
  {
   "cell_type": "code",
   "execution_count": 1,
   "id": "c7e3f4f7",
   "metadata": {},
   "outputs": [
    {
     "name": "stderr",
     "output_type": "stream",
     "text": [
      "/Users/hairanliang/opt/anaconda3/lib/python3.9/site-packages/torchvision/io/image.py:13: UserWarning: Failed to load image Python extension: 'dlopen(/Users/hairanliang/opt/anaconda3/lib/python3.9/site-packages/torchvision/image.so, 6): Library not loaded: @rpath/libpng16.16.dylib\n",
      "  Referenced from: /Users/hairanliang/opt/anaconda3/lib/python3.9/site-packages/torchvision/image.so\n",
      "  Reason: Incompatible library version: image.so requires version 56.0.0 or later, but libpng16.16.dylib provides version 54.0.0'If you don't plan on using image functionality from `torchvision.io`, you can ignore this warning. Otherwise, there might be something wrong with your environment. Did you have `libjpeg` or `libpng` installed before building `torchvision` from source?\n",
      "  warn(\n"
     ]
    }
   ],
   "source": [
    "# Import all the .py files and necessary libraries\n",
    "import torch\n",
    "from PIL import Image\n",
    "from dataloader import load_data, augment_data, get_item, custom_collate, OCTDataset\n",
    "from model import ConvNet\n",
    "from transforms import composedTransform, identityTransform\n",
    "from loss import sim_matrix, pair_loss_matrix, total_contrastive_loss\n",
    "from train import predict, train_one_step, train_one_epoch, train\n",
    "from torch.utils.data import Dataset, DataLoader\n",
    "from torchvision import transforms as T\n",
    "import matplotlib.pyplot as plt"
   ]
  },
  {
   "cell_type": "markdown",
   "id": "07a3515e",
   "metadata": {},
   "source": [
    "I will walkthrough my self-supervised contrastive learning pipeline. Firstly, I will be using 4 arbitary OCT retinal images. I stored them in a list, which my Dataset and DataLoader will use to input it into the training loop."
   ]
  },
  {
   "cell_type": "code",
   "execution_count": 2,
   "id": "f3340b9a",
   "metadata": {},
   "outputs": [],
   "source": [
    "image_list = ['/Users/hairanliang/Downloads/NORMAL-6477461-4.jpeg', \n",
    "               '/Users/hairanliang/Downloads/NORMAL-3767173-12.jpeg', \n",
    "             '/Users/hairanliang/Downloads/NORMAL-9453329-20.jpeg',\n",
    "              '/Users/hairanliang/Downloads/NORMAL-7021113-21.jpeg',]\n",
    "\n",
    "small_list = ['/Users/hairanliang/Downloads/NORMAL-6477461-4.jpeg', \n",
    "               '/Users/hairanliang/Downloads/NORMAL-3767173-12.jpeg']"
   ]
  },
  {
   "cell_type": "markdown",
   "id": "2d1ca344",
   "metadata": {},
   "source": [
    "Let's first see what one of these images looks like as well as its dimensions, which will be something we have to consider when inputting it into our CNN model."
   ]
  },
  {
   "cell_type": "code",
   "execution_count": 3,
   "id": "e34bf30f",
   "metadata": {},
   "outputs": [
    {
     "name": "stdout",
     "output_type": "stream",
     "text": [
      "JPEG\n",
      "(512, 496)\n",
      "L\n"
     ]
    }
   ],
   "source": [
    "image = Image.open('/Users/hairanliang/Downloads/NORMAL-6477461-4.jpeg')\n",
    "print(image.format)\n",
    "print(image.size)\n",
    "print(image.mode) # L = 8-bit pixels, grayscale\n",
    "# image.show()"
   ]
  },
  {
   "cell_type": "markdown",
   "id": "6e43fa58",
   "metadata": {},
   "source": [
    "Now, I will test my Dataset/DataLoader classes to make sure my custom collate_fn and Dataset classes work as intended. The special part of my Dataset class is that it has two modes specifically for getitem: augmentation mode and default mode. For augmentation mode (augmentation=True), my Dataset class takes in an image link and then returns two augmented versions of the image, whereas in default mode (augmentation=False), getitem will just return back the image albeit resized. "
   ]
  },
  {
   "cell_type": "code",
   "execution_count": 4,
   "id": "25a7eeec",
   "metadata": {},
   "outputs": [],
   "source": [
    "dataset = OCTDataset(image_list, True) # augmentation mode"
   ]
  },
  {
   "cell_type": "code",
   "execution_count": 5,
   "id": "04f3d506",
   "metadata": {},
   "outputs": [
    {
     "data": {
      "text/plain": [
       "4"
      ]
     },
     "execution_count": 5,
     "metadata": {},
     "output_type": "execute_result"
    }
   ],
   "source": [
    "len(dataset) # This is correct: there are four image links and thus 4 original images in the Dataset (pre-augmentation)."
   ]
  },
  {
   "cell_type": "markdown",
   "id": "1ffe587c",
   "metadata": {},
   "source": [
    "The following is an example of an augmented image."
   ]
  },
  {
   "cell_type": "code",
   "execution_count": 6,
   "id": "a2ccf162",
   "metadata": {},
   "outputs": [
    {
     "name": "stderr",
     "output_type": "stream",
     "text": [
      "/Users/hairanliang/opt/anaconda3/lib/python3.9/site-packages/torchvision/transforms/functional.py:1603: UserWarning: The default value of the antialias parameter of all the resizing transforms (Resize(), RandomResizedCrop(), etc.) will change from None to True in v0.17, in order to be consistent across the PIL and Tensor backends. To suppress this warning, directly pass antialias=True (recommended, future default), antialias=None (current default, which means False for Tensors and True for PIL), or antialias=False (only works on Tensors - PIL will still use antialiasing). This also applies if you are using the inference transforms from the models weights: update the call to weights.transforms(antialias=True).\n",
      "  warnings.warn(\n"
     ]
    }
   ],
   "source": [
    "transform = T.ToPILImage()\n",
    "img = transform(dataset[0][0])\n",
    "# img.show() "
   ]
  },
  {
   "cell_type": "code",
   "execution_count": 7,
   "id": "8f3a13fd",
   "metadata": {},
   "outputs": [
    {
     "data": {
      "image/png": "[encoded data removed]",
      "text/plain": [
       "<PIL.Image.Image image mode=L size=32x32 at 0x7FF1CBBB6FD0>"
      ]
     },
     "execution_count": 7,
     "metadata": {},
     "output_type": "execute_result"
    }
   ],
   "source": [
    "img"
   ]
  },
  {
   "cell_type": "markdown",
   "id": "f5b2116d",
   "metadata": {},
   "source": [
    "Now I will test my custom collate_fn using the DataLoader class. "
   ]
  },
  {
   "cell_type": "code",
   "execution_count": 8,
   "id": "ec20a2e0",
   "metadata": {},
   "outputs": [],
   "source": [
    "dataloader = DataLoader(dataset, batch_size=2, shuffle=True, collate_fn=custom_collate)"
   ]
  },
  {
   "cell_type": "markdown",
   "id": "f121772e",
   "metadata": {},
   "source": [
    "Now, I want to see what a batch looks like. Since I set batch_size to 2, and I know there should be 4 images x 2 augmented images / image = 8 augmented images in total, then each batch should have 4 augmented images in the form of tensors."
   ]
  },
  {
   "cell_type": "code",
   "execution_count": 9,
   "id": "0cf47e15",
   "metadata": {},
   "outputs": [
    {
     "name": "stdout",
     "output_type": "stream",
     "text": [
      "torch.Size([4, 1, 32, 32])\n"
     ]
    }
   ],
   "source": [
    "batchTest = next(iter(dataloader))\n",
    "print(batchTest.shape) "
   ]
  },
  {
   "cell_type": "code",
   "execution_count": 10,
   "id": "ca397034",
   "metadata": {},
   "outputs": [],
   "source": [
    "transform = T.ToPILImage()\n",
    "img = transform(batchTest[0])"
   ]
  },
  {
   "cell_type": "code",
   "execution_count": 11,
   "id": "9646707e",
   "metadata": {},
   "outputs": [
    {
     "data": {
      "image/png": "[encoded data removed]",
      "text/plain": [
       "<PIL.Image.Image image mode=L size=32x32 at 0x7FF1C2F2A700>"
      ]
     },
     "execution_count": 11,
     "metadata": {},
     "output_type": "execute_result"
    }
   ],
   "source": [
    "img"
   ]
  },
  {
   "cell_type": "markdown",
   "id": "8ac2536a",
   "metadata": {},
   "source": [
    "The shape of 4 x 1 x 32 x 32 makes sense: 4 augmented images (per batch), 1 for the grayscale channel, and 100 x 100 since my composed transformation makes does a resized crop into a 32 x 32 for all augmented images."
   ]
  },
  {
   "cell_type": "markdown",
   "id": "5b3640b4",
   "metadata": {},
   "source": [
    "To see what each batch index and sample of augmented images looks like, I can do this:"
   ]
  },
  {
   "cell_type": "code",
   "execution_count": 12,
   "id": "7f743b4a",
   "metadata": {
    "scrolled": true
   },
   "outputs": [
    {
     "name": "stdout",
     "output_type": "stream",
     "text": [
      "0 tensor([[[[0.0066, 0.0111, 0.0200,  ..., 0.0307, 0.0107, 0.0043],\n",
      "          [0.0181, 0.0232, 0.0341,  ..., 0.0388, 0.0162, 0.0079],\n",
      "          [0.0445, 0.0506, 0.0641,  ..., 0.0589, 0.0295, 0.0162],\n",
      "          ...,\n",
      "          [0.0072, 0.0126, 0.0246,  ..., 0.0214, 0.0173, 0.0142],\n",
      "          [0.0040, 0.0089, 0.0195,  ..., 0.0108, 0.0070, 0.0047],\n",
      "          [0.0024, 0.0070, 0.0168,  ..., 0.0056, 0.0027, 0.0011]]],\n",
      "\n",
      "\n",
      "        [[[0.3359, 0.3570, 0.4211,  ..., 0.2579, 0.2577, 0.2550],\n",
      "          [0.3268, 0.3456, 0.4047,  ..., 0.2574, 0.2565, 0.2537],\n",
      "          [0.2968, 0.3177, 0.3749,  ..., 0.2707, 0.2720, 0.2696],\n",
      "          ...,\n",
      "          [0.0254, 0.0268, 0.0334,  ..., 0.0359, 0.0327, 0.0326],\n",
      "          [0.0224, 0.0244, 0.0344,  ..., 0.0393, 0.0356, 0.0366],\n",
      "          [0.0255, 0.0257, 0.0357,  ..., 0.0411, 0.0380, 0.0397]]],\n",
      "\n",
      "\n",
      "        [[[0.0040, 0.0073, 0.0145,  ..., 0.0245, 0.0100, 0.0059],\n",
      "          [0.0113, 0.0156, 0.0245,  ..., 0.0331, 0.0147, 0.0087],\n",
      "          [0.0266, 0.0326, 0.0455,  ..., 0.0509, 0.0242, 0.0145],\n",
      "          ...,\n",
      "          [0.0242, 0.0479, 0.1035,  ..., 0.0719, 0.0580, 0.0519],\n",
      "          [0.0118, 0.0303, 0.0758,  ..., 0.0320, 0.0219, 0.0176],\n",
      "          [0.0066, 0.0229, 0.0643,  ..., 0.0154, 0.0076, 0.0042]]],\n",
      "\n",
      "\n",
      "        [[[0.0231, 0.0755, 0.1168,  ..., 0.0255, 0.0294, 0.0317],\n",
      "          [0.0239, 0.0759, 0.1045,  ..., 0.0700, 0.0828, 0.0893],\n",
      "          [0.0445, 0.1257, 0.1166,  ..., 0.0618, 0.0731, 0.0738],\n",
      "          ...,\n",
      "          [0.0315, 0.0472, 0.0252,  ..., 0.0715, 0.0411, 0.0118],\n",
      "          [0.0320, 0.0424, 0.0281,  ..., 0.0669, 0.0533, 0.0173],\n",
      "          [0.0115, 0.0145, 0.0101,  ..., 0.0623, 0.0458, 0.0144]]]])\n",
      "1 tensor([[[[0.0737, 0.0834, 0.1018,  ..., 0.1068, 0.1073, 0.1082],\n",
      "          [0.0724, 0.0819, 0.1005,  ..., 0.1075, 0.1094, 0.1108],\n",
      "          [0.0744, 0.0835, 0.1011,  ..., 0.1063, 0.1101, 0.1119],\n",
      "          ...,\n",
      "          [0.0557, 0.0559, 0.0564,  ..., 0.0741, 0.0748, 0.0743],\n",
      "          [0.0528, 0.0529, 0.0529,  ..., 0.0688, 0.0673, 0.0667],\n",
      "          [0.0513, 0.0516, 0.0514,  ..., 0.0669, 0.0643, 0.0635]]],\n",
      "\n",
      "\n",
      "        [[[0.1803, 0.1984, 0.2325,  ..., 0.2654, 0.2605, 0.2582],\n",
      "          [0.1929, 0.2097, 0.2386,  ..., 0.2709, 0.2652, 0.2627],\n",
      "          [0.2435, 0.2593, 0.2874,  ..., 0.2940, 0.2887, 0.2878],\n",
      "          ...,\n",
      "          [0.0448, 0.0470, 0.0501,  ..., 0.0506, 0.0461, 0.0442],\n",
      "          [0.0349, 0.0371, 0.0411,  ..., 0.0427, 0.0374, 0.0353],\n",
      "          [0.0324, 0.0344, 0.0381,  ..., 0.0405, 0.0354, 0.0329]]],\n",
      "\n",
      "\n",
      "        [[[0.0715, 0.0946, 0.1651,  ..., 0.1570, 0.1643, 0.1694],\n",
      "          [0.0832, 0.1120, 0.1988,  ..., 0.1722, 0.1791, 0.1832],\n",
      "          [0.1059, 0.1409, 0.2499,  ..., 0.2760, 0.2836, 0.2892],\n",
      "          ...,\n",
      "          [0.0157, 0.0170, 0.0185,  ..., 0.0275, 0.0161, 0.0135],\n",
      "          [0.0085, 0.0097, 0.0107,  ..., 0.0259, 0.0149, 0.0121],\n",
      "          [0.0056, 0.0066, 0.0079,  ..., 0.0252, 0.0142, 0.0115]]],\n",
      "\n",
      "\n",
      "        [[[0.0810, 0.0975, 0.0668,  ..., 0.0831, 0.0501, 0.0442],\n",
      "          [0.0715, 0.0375, 0.0668,  ..., 0.0850, 0.0853, 0.0246],\n",
      "          [0.0734, 0.0251, 0.0880,  ..., 0.0286, 0.0331, 0.0324],\n",
      "          ...,\n",
      "          [0.0357, 0.0301, 0.0181,  ..., 0.0611, 0.0450, 0.0519],\n",
      "          [0.0477, 0.0289, 0.0441,  ..., 0.0499, 0.0454, 0.0568],\n",
      "          [0.0182, 0.0454, 0.0430,  ..., 0.0571, 0.0353, 0.0108]]]])\n"
     ]
    }
   ],
   "source": [
    "for batch_idx, batch in enumerate(dataloader):\n",
    "    print(batch_idx, batch)"
   ]
  },
  {
   "cell_type": "markdown",
   "id": "2be8aac7",
   "metadata": {},
   "source": [
    "Now the last thing to do is test if my dataloader synergizes with my training loop. First, I will show the training functions and that they work fine. After, I will show a little bit about what's going on underneath the hood."
   ]
  },
  {
   "cell_type": "code",
   "execution_count": 13,
   "id": "cc8a4f61",
   "metadata": {},
   "outputs": [],
   "source": [
    "# Testing to see if manually giving a list will lead to training that works\n",
    "\n",
    "# ['/Users/hairanliang/Downloads/NORMAL-6477461-4.jpeg', \n",
    "#                '/Users/hairanliang/Downloads/NORMAL-3767173-12.jpeg', \n",
    "#              '/Users/hairanliang/Downloads/NORMAL-9453329-20.jpeg',\n",
    "#               '/Users/hairanliang/Downloads/NORMAL-7021113-21.jpeg',]\n",
    "\n",
    "a = get_item('/Users/hairanliang/Downloads/NORMAL-6477461-4.jpeg')\n",
    "b = get_item('/Users/hairanliang/Downloads/NORMAL-3767173-12.jpeg')\n",
    "c = get_item('/Users/hairanliang/Downloads/NORMAL-9453329-20.jpeg')\n",
    "d = get_item('/Users/hairanliang/Downloads/NORMAL-7021113-21.jpeg')"
   ]
  },
  {
   "cell_type": "code",
   "execution_count": 14,
   "id": "345cefdc",
   "metadata": {},
   "outputs": [],
   "source": [
    "ab = torch.vstack((a,b))\n",
    "cd = torch.vstack((c,d))"
   ]
  },
  {
   "cell_type": "code",
   "execution_count": 15,
   "id": "4597e60f",
   "metadata": {},
   "outputs": [
    {
     "data": {
      "text/plain": [
       "torch.Size([2, 32, 32])"
      ]
     },
     "execution_count": 15,
     "metadata": {},
     "output_type": "execute_result"
    }
   ],
   "source": [
    "ab.shape"
   ]
  },
  {
   "cell_type": "code",
   "execution_count": 16,
   "id": "8fa2b895",
   "metadata": {},
   "outputs": [
    {
     "data": {
      "text/plain": [
       "torch.Size([2, 32, 32])"
      ]
     },
     "execution_count": 16,
     "metadata": {},
     "output_type": "execute_result"
    }
   ],
   "source": [
    "cd.shape"
   ]
  },
  {
   "cell_type": "code",
   "execution_count": 17,
   "id": "e4adf318",
   "metadata": {},
   "outputs": [],
   "source": [
    "test_list = [ab, cd]"
   ]
  },
  {
   "cell_type": "code",
   "execution_count": 19,
   "id": "67aba5e9",
   "metadata": {},
   "outputs": [],
   "source": [
    "# Initializing the ConvNet Model\n",
    "model = ConvNet()\n",
    "learning_rate = 0.001\n",
    "optimizer = torch.optim.SGD(model.parameters(), lr=learning_rate)"
   ]
  },
  {
   "cell_type": "code",
   "execution_count": 20,
   "id": "3aedf59d",
   "metadata": {},
   "outputs": [],
   "source": [
    "# train_one_step(batch, model, optimizer)"
   ]
  },
  {
   "cell_type": "code",
   "execution_count": 21,
   "id": "ad877a21",
   "metadata": {},
   "outputs": [],
   "source": [
    "# train_one_epoch(dataloader, model, optimizer)"
   ]
  },
  {
   "cell_type": "code",
   "execution_count": 22,
   "id": "c260b3e8",
   "metadata": {},
   "outputs": [],
   "source": [
    "# train(dataloader, model, optimizer, 1000)"
   ]
  },
  {
   "cell_type": "code",
   "execution_count": 23,
   "id": "5c95da43",
   "metadata": {},
   "outputs": [],
   "source": [
    "loss_history = train(dataloader, model, optimizer, 1000)"
   ]
  },
  {
   "cell_type": "code",
   "execution_count": 24,
   "id": "4731098e",
   "metadata": {},
   "outputs": [
    {
     "data": {
      "text/plain": [
       "[<matplotlib.lines.Line2D at 0x7ff1af8b8c10>]"
      ]
     },
     "execution_count": 24,
     "metadata": {},
     "output_type": "execute_result"
    },
    {
     "data": {
      "image/png": "[encoded data removed]",
      "text/plain": [
       "<Figure size 432x288 with 1 Axes>"
      ]
     },
     "metadata": {
      "needs_background": "light"
     },
     "output_type": "display_data"
    }
   ],
   "source": [
    "plt.plot(loss_history)"
   ]
  },
  {
   "cell_type": "code",
   "execution_count": 64,
   "id": "2b8d7fc1",
   "metadata": {},
   "outputs": [
    {
     "name": "stdout",
     "output_type": "stream",
     "text": [
      "ConvNet(\n",
      "  (conv1): Conv2d(1, 64, kernel_size=(5, 5), stride=(1, 1))\n",
      "  (pool): MaxPool2d(kernel_size=2, stride=2, padding=0, dilation=1, ceil_mode=False)\n",
      "  (global_pool): AdaptiveAvgPool2d(output_size=1)\n",
      "  (conv2): Conv2d(64, 64, kernel_size=(5, 5), stride=(1, 1))\n",
      "  (fc1): Linear(in_features=64, out_features=80, bias=True)\n",
      "  (fc2): Linear(in_features=80, out_features=40, bias=True)\n",
      ")\n"
     ]
    }
   ],
   "source": [
    "print(model) # Do pooling instead of flattening "
   ]
  },
  {
   "cell_type": "markdown",
   "id": "cda09c94",
   "metadata": {},
   "source": [
    "As can be seen, all of my train functions work well. Train_one_step only takes in a batch of data whereas train_one_epoch and train take in the entire dataloader. The loss starts at around 3.1, and with training 50 epochs, the model gets to a loss of 2.1, which is pretty good and shows that the model is learning (and likely overfitting due to how small the training set is)."
   ]
  },
  {
   "cell_type": "markdown",
   "id": "14190a1e",
   "metadata": {},
   "source": [
    "Now the last thing I want to show is how the model's outputs, loss, similarity matrix, and so on change over time. To do this, I will take out of the abstraction into functions and just code everything into code blocks that can be re-run over and over to see how the loss changes after each run through. I will use only two images(4 augmented images), which is the minimum for contrastive learning, for this demonstration. "
   ]
  },
  {
   "cell_type": "code",
   "execution_count": 62,
   "id": "d64a1c7f",
   "metadata": {},
   "outputs": [],
   "source": [
    "# Demonstration that lets us see how the values evolve over time during training\n",
    "\n",
    "# get_item function is now coded out to see all the different parts separately\n",
    "aug_list_1 = []\n",
    "aug_list_2 = []\n",
    "test_list_1 = ['/Users/hairanliang/Downloads/NORMAL-6477461-4.jpeg', \n",
    "               '/Users/hairanliang/Downloads/NORMAL-3767173-12.jpeg']\n",
    "test_list_2 = ['/Users/hairanliang/Downloads/NORMAL-9453329-20.jpeg',\n",
    "              '/Users/hairanliang/Downloads/NORMAL-7021113-21.jpeg']\n",
    "for link in test_list_1:\n",
    "    x = load_data(link)\n",
    "    aug_x1 = augment_data(x, True)\n",
    "    aug_x2 = augment_data(x, True)\n",
    "    aug_list_1.extend([aug_x1, aug_x2])\n",
    "aug_tensor_1 = torch.stack(aug_list_1, dim=0)\n",
    "\n",
    "for link in test_list_2:\n",
    "    x = load_data(link)\n",
    "    aug_x1 = augment_data(x, True)\n",
    "    aug_x2 = augment_data(x, True)\n",
    "    aug_list_2.extend([aug_x1, aug_x2])\n",
    "aug_tensor_2 = torch.stack(aug_list_2, dim=0)"
   ]
  },
  {
   "cell_type": "code",
   "execution_count": 63,
   "id": "73618653",
   "metadata": {},
   "outputs": [
    {
     "data": {
      "text/plain": [
       "<function Tensor.type>"
      ]
     },
     "execution_count": 63,
     "metadata": {},
     "output_type": "execute_result"
    }
   ],
   "source": [
    "aug_tensor_1.type"
   ]
  },
  {
   "cell_type": "code",
   "execution_count": 64,
   "id": "de15cd10",
   "metadata": {},
   "outputs": [
    {
     "data": {
      "text/plain": [
       "torch.Size([4, 1, 32, 32])"
      ]
     },
     "execution_count": 64,
     "metadata": {},
     "output_type": "execute_result"
    }
   ],
   "source": [
    "aug_tensor_1.shape"
   ]
  },
  {
   "cell_type": "code",
   "execution_count": 120,
   "id": "f5bad438",
   "metadata": {},
   "outputs": [],
   "source": [
    "testModel = ConvNet()\n",
    "test_learning_rate = 0.1\n",
    "test_optimizer = torch.optim.SGD(testModel.parameters(), lr=test_learning_rate)"
   ]
  },
  {
   "cell_type": "code",
   "execution_count": 143,
   "id": "5b078538",
   "metadata": {},
   "outputs": [],
   "source": [
    "outputs = testModel(aug_tensor_1)\n",
    "simi_matrix = sim_matrix(outputs)\n",
    "pair_matrix = pair_loss_matrix(simi_matrix)\n",
    "loss = total_contrastive_loss(pair_matrix)\n",
    "test_optimizer.zero_grad()\n",
    "loss.backward()\n",
    "test_optimizer.step()"
   ]
  },
  {
   "cell_type": "code",
   "execution_count": 144,
   "id": "e11bd8ff",
   "metadata": {},
   "outputs": [
    {
     "data": {
      "text/plain": [
       "tensor(1.0987, grad_fn=<MulBackward0>)"
      ]
     },
     "execution_count": 144,
     "metadata": {},
     "output_type": "execute_result"
    }
   ],
   "source": [
    "loss"
   ]
  },
  {
   "cell_type": "code",
   "execution_count": 145,
   "id": "ddbde11d",
   "metadata": {},
   "outputs": [
    {
     "data": {
      "text/plain": [
       "True"
      ]
     },
     "execution_count": 145,
     "metadata": {},
     "output_type": "execute_result"
    }
   ],
   "source": [
    "loss.requires_grad"
   ]
  },
  {
   "cell_type": "code",
   "execution_count": 146,
   "id": "6be6d7f1",
   "metadata": {},
   "outputs": [
    {
     "data": {
      "text/plain": [
       "tensor([[1.0000, 0.9995, 0.9997, 0.9996],\n",
       "        [0.9995, 1.0000, 0.9997, 0.9985],\n",
       "        [0.9997, 0.9997, 1.0000, 0.9991],\n",
       "        [0.9996, 0.9985, 0.9991, 1.0000]], grad_fn=<DivBackward0>)"
      ]
     },
     "execution_count": 146,
     "metadata": {},
     "output_type": "execute_result"
    }
   ],
   "source": [
    "simi_matrix"
   ]
  },
  {
   "cell_type": "code",
   "execution_count": 61,
   "id": "9eb52be6",
   "metadata": {},
   "outputs": [
    {
     "data": {
      "text/plain": [
       "tensor([[1.6093, 1.6093, 1.6094, 1.6093, 1.6096, 1.6095],\n",
       "        [1.6092, 1.6091, 1.6095, 1.6093, 1.6097, 1.6096],\n",
       "        [1.6094, 1.6097, 1.6093, 1.6093, 1.6094, 1.6094],\n",
       "        [1.6094, 1.6096, 1.6094, 1.6093, 1.6094, 1.6094],\n",
       "        [1.6095, 1.6098, 1.6093, 1.6093, 1.6092, 1.6092],\n",
       "        [1.6095, 1.6098, 1.6093, 1.6093, 1.6093, 1.6093]],\n",
       "       grad_fn=<PermuteBackward0>)"
      ]
     },
     "execution_count": 61,
     "metadata": {},
     "output_type": "execute_result"
    }
   ],
   "source": [
    "pair_matrix"
   ]
  },
  {
   "cell_type": "markdown",
   "id": "786dc9a1",
   "metadata": {},
   "source": [
    "As can be seen, the loss continuously goes down, and we can also see the values in both the similarity matrix and pair matrix change, representing how the positive pairs get closer together and get further away from negative pairs as the loss goes down. "
   ]
  },
  {
   "cell_type": "markdown",
   "id": "5481c996",
   "metadata": {},
   "source": [
    "What still needs to be done: 1. Understanding why the larger neural network does not work when it comes to calculating the similarity matrix (I get weird outputs). \n",
    "2. Experimenting with large OCT data to see what hyperparameters work best, such as how many layers for CNN, how many neurons in each convolutional layer, learning rate, etc. (Use ResNet-18)"
   ]
  },
  {
   "cell_type": "code",
   "execution_count": 13,
   "id": "f0cede30",
   "metadata": {},
   "outputs": [
    {
     "data": {
      "text/plain": [
       "tensor([[[0.0569, 0.0588, 0.0294,  ..., 0.0941, 0.1333, 0.0642],\n",
       "         [0.1142, 0.0015, 0.1578,  ..., 0.0711, 0.1608, 0.1304],\n",
       "         [0.0069, 0.1162, 0.0529,  ..., 0.1873, 0.1235, 0.0520],\n",
       "         ...,\n",
       "         [0.0377, 0.0368, 0.0225,  ..., 0.0225, 0.0284, 0.0358],\n",
       "         [1.0000, 1.0000, 1.0000,  ..., 0.0191, 0.0093, 0.0074],\n",
       "         [1.0000, 1.0000, 1.0000,  ..., 0.0211, 0.0368, 0.0265]]])"
      ]
     },
     "execution_count": 13,
     "metadata": {},
     "output_type": "execute_result"
    }
   ],
   "source": [
    "a = load_data('/Users/hairanliang/Downloads/NORMAL-6477461-4.jpeg')\n",
    "a_tensor = augment_data(a)\n",
    "a_tensor"
   ]
  },
  {
   "cell_type": "code",
   "execution_count": 1,
   "id": "f90079f6",
   "metadata": {},
   "outputs": [],
   "source": [
    "import matplotlib.pyplot as plt"
   ]
  },
  {
   "cell_type": "code",
   "execution_count": 5,
   "id": "f5f3cbeb",
   "metadata": {},
   "outputs": [],
   "source": [
    "a = [5, 6, 7]\n",
    "flip = 'burger'"
   ]
  },
  {
   "cell_type": "code",
   "execution_count": 8,
   "id": "30d30511",
   "metadata": {},
   "outputs": [
    {
     "data": {
      "image/png": "[encoded data removed]",
      "text/plain": [
       "<Figure size 432x288 with 1 Axes>"
      ]
     },
     "metadata": {
      "needs_background": "light"
     },
     "output_type": "display_data"
    }
   ],
   "source": [
    "plt.plot(a)\n",
    "plt.title('Loss Over Time ' + flip)\n",
    "plt.ylabel('Loss')\n",
    "plt.xlabel('Epoch')\n",
    "plt.show()"
   ]
  },
  {
   "cell_type": "code",
   "execution_count": null,
   "id": "598227e5",
   "metadata": {},
   "outputs": [],
   "source": []
  }
 ],
 "metadata": {
  "kernelspec": {
   "display_name": "Python 3 (ipykernel)",
   "language": "python",
   "name": "python3"
  },
  "language_info": {
   "codemirror_mode": {
    "name": "ipython",
    "version": 3
   },
   "file_extension": ".py",
   "mimetype": "text/x-python",
   "name": "python",
   "nbconvert_exporter": "python",
   "pygments_lexer": "ipython3",
   "version": "3.9.7"
  }
 },
 "nbformat": 4,
 "nbformat_minor": 5
}
